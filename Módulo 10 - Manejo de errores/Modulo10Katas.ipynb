{
 "cells": [
  {
   "cell_type": "code",
   "execution_count": 1,
   "metadata": {},
   "outputs": [
    {
     "name": "stdout",
     "output_type": "stream",
     "text": [
      "El archivo no existe\n",
      "El archivo no existe\n"
     ]
    }
   ],
   "source": [
    "def open_text(file_name):\n",
    "    try:\n",
    "        with open(file_name) as file:\n",
    "            return file.read()\n",
    "    except FileNotFoundError:\n",
    "        return \"El archivo no existe\"\n",
    "\n",
    "if __name__ == \"__main__\":\n",
    "    print(open_text(\"hola.txt\"))\n",
    "    print(open_text(\"prueba.txt\"))"
   ]
  }
 ],
 "metadata": {
  "interpreter": {
   "hash": "b89b5cfaba6639976dc87ff2fec6d58faec662063367e2c229c520fe71072417"
  },
  "kernelspec": {
   "display_name": "Python 3.10.2 64-bit",
   "language": "python",
   "name": "python3"
  },
  "language_info": {
   "codemirror_mode": {
    "name": "ipython",
    "version": 3
   },
   "file_extension": ".py",
   "mimetype": "text/x-python",
   "name": "python",
   "nbconvert_exporter": "python",
   "pygments_lexer": "ipython3",
   "version": "3.10.2"
  },
  "orig_nbformat": 4
 },
 "nbformat": 4,
 "nbformat_minor": 2
}
